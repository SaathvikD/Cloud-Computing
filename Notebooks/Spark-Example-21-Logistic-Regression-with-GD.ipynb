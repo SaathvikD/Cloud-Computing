{
 "cells": [
  {
   "cell_type": "code",
   "execution_count": 1,
   "metadata": {},
   "outputs": [],
   "source": [
    "from sklearn.datasets import load_iris\n",
    "from sklearn.linear_model import LogisticRegression\n",
    "\n",
    "import matplotlib.pyplot as plt\n",
    "\n",
    "from pyspark.ml.linalg import Vectors\n",
    "from pandas import Series,DataFrame\n",
    "import pandas as pd"
   ]
  },
  {
   "cell_type": "code",
   "execution_count": 2,
   "metadata": {
    "scrolled": true
   },
   "outputs": [
    {
     "name": "stdout",
     "output_type": "stream",
     "text": [
      "[(1, 1), (2, 2), (3, 3), (10, 10), (11, 11), (12, 12)]\n",
      "[1, 1, 1, 0, 0, 0]\n"
     ]
    }
   ],
   "source": [
    "X=[(1,1), (2,2), (3, 3), (10,10), (11,11), (12,12)]\n",
    "\n",
    "label=[1,1,1,0,0,0]\n",
    "\n",
    "print(X)\n",
    "print(label)"
   ]
  },
  {
   "cell_type": "code",
   "execution_count": 3,
   "metadata": {},
   "outputs": [
    {
     "name": "stdout",
     "output_type": "stream",
     "text": [
      "[1, 2, 3, 10, 11, 12]\n"
     ]
    }
   ],
   "source": [
    "x1 = [a_tuple[0] for a_tuple in X]\n",
    "x2 = [a_tuple[0] for a_tuple in X]\n",
    "print(x1)"
   ]
  },
  {
   "cell_type": "code",
   "execution_count": 4,
   "metadata": {},
   "outputs": [
    {
     "data": {
      "image/png": "[encoded data removed]",
      "text/plain": [
       "<Figure size 432x288 with 1 Axes>"
      ]
     },
     "metadata": {
      "needs_background": "light"
     },
     "output_type": "display_data"
    }
   ],
   "source": [
    "plt.scatter(x1,x2, c=label, alpha=0.9, label=\"Two Classes\")\n",
    "plt.xlabel(\"x1\")\n",
    "plt.ylabel(\"x2\")\n",
    "\n",
    "# plt.legend(loc='lower right')\n",
    "plt.show()"
   ]
  },
  {
   "cell_type": "code",
   "execution_count": 5,
   "metadata": {},
   "outputs": [
    {
     "name": "stdout",
     "output_type": "stream",
     "text": [
      "[0 0 0 0 0 0]\n",
      "[[-0.09347047 -0.09347047]]\n",
      "l2\n"
     ]
    }
   ],
   "source": [
    "# Now, let us fit a logistic regression model into this and test it on the train data. \n",
    "# this is using Scikit-learn to check our implementation\n",
    "clf = LogisticRegression(fit_intercept=False, random_state=0).fit(X, label)\n",
    "print(clf.predict(X))\n",
    "clf.score(X, label)\n",
    "print(clf.coef_)\n",
    "\n",
    "print(clf.penalty)"
   ]
  },
  {
   "cell_type": "code",
   "execution_count": 6,
   "metadata": {},
   "outputs": [
    {
     "name": "stdout",
     "output_type": "stream",
     "text": [
      "+---+--------+\n",
      "|  y|       x|\n",
      "+---+--------+\n",
      "|  1|  [1, 1]|\n",
      "|  1|  [2, 2]|\n",
      "|  1|  [3, 3]|\n",
      "|  0|[10, 10]|\n",
      "|  0|[11, 11]|\n",
      "|  0|[12, 12]|\n",
      "+---+--------+\n",
      "\n"
     ]
    },
    {
     "data": {
      "text/plain": [
       "[(1, array([1, 1])),\n",
       " (1, array([2, 2])),\n",
       " (1, array([3, 3])),\n",
       " (0, array([10, 10])),\n",
       " (0, array([11, 11])),\n",
       " (0, array([12, 12]))]"
      ]
     },
     "execution_count": 6,
     "metadata": {},
     "output_type": "execute_result"
    }
   ],
   "source": [
    "# Let us make a RDD in Spark \n",
    "\n",
    "# # Now, we create an RDD from this data. \n",
    "# # X is a numpy array \n",
    "# # y is a simple value lable\n",
    "import numpy as np\n",
    "import pandas as pd\n",
    "from pyspark.ml.linalg import Vectors\n",
    "\n",
    "\n",
    "data = {'y':label, 'x':X}\n",
    "\n",
    "df = DataFrame(data)\n",
    "df\n",
    "\n",
    "spark_df_from_pandas = spark.createDataFrame(df, schema=['y', 'x'])\n",
    "spark_df_from_pandas.show()\n",
    "\n",
    "\n",
    "# # Now, we create an RDD from this data. \n",
    "# # X is a numpy array \n",
    "# # y is a simple value lable\n",
    "\n",
    "trainRDD=spark_df_from_pandas.rdd.map(lambda x: (x[0], np.array(x[1]) ))\n",
    "trainRDD.collect()\n"
   ]
  },
  {
   "cell_type": "code",
   "execution_count": 7,
   "metadata": {},
   "outputs": [],
   "source": [
    "# Calculates the cost and gradients \n",
    "# Without using the regulrization factor\n",
    "def llh_cost_gradient(x, coeficients):\n",
    "    \"\"\"\" LLH - loss function and gradiant \"\"\"\n",
    "    theta = np.dot(x[1], coeficients)\n",
    "    \n",
    "    cost = - x[0] * theta + np.log(1 + np.exp(theta))\n",
    "    gradient = - x[1] * x[0] +  x[1] * (np.exp(theta) / (1 + np.exp(theta)))\n",
    "    \n",
    "    return cost, gradient"
   ]
  },
  {
   "cell_type": "code",
   "execution_count": 8,
   "metadata": {},
   "outputs": [
    {
     "name": "stdout",
     "output_type": "stream",
     "text": [
      "0 Regression Coef (Weights): [1. 1.]  Cost (negative LLH) :, 68.14755362647637\n",
      "1 Regression Coef (Weights): [0.94716259 0.94716259]  Cost (negative LLH) :, 64.57295485350909\n",
      "2 Regression Coef (Weights): [0.89540452 0.89540452]  Cost (negative LLH) :, 61.0738764023339\n",
      "3 Regression Coef (Weights): [0.84470742 0.84470742]  Cost (negative LLH) :, 57.649326105723944\n",
      "4 Regression Coef (Weights): [0.79505382 0.79505382]  Cost (negative LLH) :, 54.298406537429074\n",
      "5 Regression Coef (Weights): [0.74642716 0.74642716]  Cost (negative LLH) :, 51.020323747974615\n",
      "6 Regression Coef (Weights): [0.69881194 0.69881194]  Cost (negative LLH) :, 47.81439651173713\n",
      "7 Regression Coef (Weights): [0.6521937 0.6521937]  Cost (negative LLH) :, 44.680065778962614\n",
      "8 Regression Coef (Weights): [0.60655919 0.60655919]  Cost (negative LLH) :, 41.616903976681115\n",
      "9 Regression Coef (Weights): [0.56189641 0.56189641]  Cost (negative LLH) :, 38.62462392019716\n",
      "10 Regression Coef (Weights): [0.51819471 0.51819471]  Cost (negative LLH) :, 35.703087665271504\n",
      "11 Regression Coef (Weights): [0.47544489 0.47544489]  Cost (negative LLH) :, 32.85231727273113\n",
      "12 Regression Coef (Weights): [0.43363933 0.43363933]  Cost (negative LLH) :, 30.0725134864104\n",
      "13 Regression Coef (Weights): [0.3927723 0.3927723]  Cost (negative LLH) :, 27.36409742413589\n",
      "14 Regression Coef (Weights): [0.35284051 0.35284051]  Cost (negative LLH) :, 24.727809835147006\n",
      "15 Regression Coef (Weights): [0.31384445 0.31384445]  Cost (negative LLH) :, 22.16494224136705\n",
      "16 Regression Coef (Weights): [0.27579145 0.27579145]  Cost (negative LLH) :, 19.677851716667295\n",
      "17 Regression Coef (Weights): [0.23870231 0.23870231]  Cost (negative LLH) :, 17.27105145425615\n",
      "18 Regression Coef (Weights): [0.2026252 0.2026252]  Cost (negative LLH) :, 14.953389424683488\n",
      "19 Regression Coef (Weights): [0.16766322 0.16766322]  Cost (negative LLH) :, 12.742046535059677\n",
      "20 Regression Coef (Weights): [0.13402398 0.13402398]  Cost (negative LLH) :, 10.66881067839168\n",
      "21 Regression Coef (Weights): [0.10209428 0.10209428]  Cost (negative LLH) :, 8.786740077950958\n",
      "22 Regression Coef (Weights): [0.0725089 0.0725089]  Cost (negative LLH) :, 7.16865059347226\n",
      "23 Regression Coef (Weights): [0.04610365 0.04610365]  Cost (negative LLH) :, 5.882693721800388\n",
      "24 Regression Coef (Weights): [0.02361569 0.02361569]  Cost (negative LLH) :, 4.948265348165787\n",
      "25 Regression Coef (Weights): [0.00526528 0.00526528]  Cost (negative LLH) :, 4.31682690886922\n",
      "26 Regression Coef (Weights): [-0.00933669 -0.00933669]  Cost (negative LLH) :, 3.9046098041220643\n",
      "27 Regression Coef (Weights): [-0.02088679 -0.02088679]  Cost (negative LLH) :, 3.6351261721792496\n",
      "28 Regression Coef (Weights): [-0.03007858 -0.03007858]  Cost (negative LLH) :, 3.455038543820133\n",
      "29 Regression Coef (Weights): [-0.03747434 -0.03747434]  Cost (negative LLH) :, 3.3311093838896504\n",
      "30 Regression Coef (Weights): [-0.0434959 -0.0434959]  Cost (negative LLH) :, 3.2432588267238818\n",
      "31 Regression Coef (Weights): [-0.04845281 -0.04845281]  Cost (negative LLH) :, 3.1792664789063543\n",
      "32 Regression Coef (Weights): [-0.05257276 -0.05257276]  Cost (negative LLH) :, 3.131521551888461\n",
      "33 Regression Coef (Weights): [-0.05602533 -0.05602533]  Cost (negative LLH) :, 3.0951491242683953\n",
      "34 Regression Coef (Weights): [-0.05893878 -0.05893878]  Cost (negative LLH) :, 3.0669368297983914\n",
      "35 Regression Coef (Weights): [-0.06141172 -0.06141172]  Cost (negative LLH) :, 3.0447104635292814\n",
      "36 Regression Coef (Weights): [-0.06352116 -0.06352116]  Cost (negative LLH) :, 3.0269619758459303\n",
      "37 Regression Coef (Weights): [-0.06532806 -0.06532806]  Cost (negative LLH) :, 3.0126219279893696\n",
      "38 Regression Coef (Weights): [-0.0668813 -0.0668813]  Cost (negative LLH) :, 3.0009166267930887\n",
      "39 Regression Coef (Weights): [-0.06822053 -0.06822053]  Cost (negative LLH) :, 2.991276174180351\n",
      "40 Regression Coef (Weights): [-0.06937822 -0.06937822]  Cost (negative LLH) :, 2.983273907483513\n",
      "41 Regression Coef (Weights): [-0.07038119 -0.07038119]  Cost (negative LLH) :, 2.9765856606271344\n",
      "42 Regression Coef (Weights): [-0.07125176 -0.07125176]  Cost (negative LLH) :, 2.970961822638895\n",
      "43 Regression Coef (Weights): [-0.07200865 -0.07200865]  Cost (negative LLH) :, 2.966207830843532\n",
      "44 Regression Coef (Weights): [-0.07266764 -0.07266764]  Cost (negative LLH) :, 2.9621703298746613\n",
      "45 Regression Coef (Weights): [-0.07324208 -0.07324208]  Cost (negative LLH) :, 2.958727203572455\n",
      "46 Regression Coef (Weights): [-0.07374336 -0.07374336]  Cost (negative LLH) :, 2.955780297007342\n",
      "47 Regression Coef (Weights): [-0.0741812 -0.0741812]  Cost (negative LLH) :, 2.9532500348663664\n",
      "48 Regression Coef (Weights): [-0.07456393 -0.07456393]  Cost (negative LLH) :, 2.9510713949760525\n",
      "49 Regression Coef (Weights): [-0.07489872 -0.07489872]  Cost (negative LLH) :, 2.949190862475708\n",
      "50 Regression Coef (Weights): [-0.07519175 -0.07519175]  Cost (negative LLH) :, 2.9475641019878402\n",
      "51 Regression Coef (Weights): [-0.07544837 -0.07544837]  Cost (negative LLH) :, 2.9461541612398814\n",
      "52 Regression Coef (Weights): [-0.07567321 -0.07567321]  Cost (negative LLH) :, 2.9449300720918594\n",
      "53 Regression Coef (Weights): [-0.07587028 -0.07587028]  Cost (negative LLH) :, 2.9438657515990525\n",
      "54 Regression Coef (Weights): [-0.07604307 -0.07604307]  Cost (negative LLH) :, 2.942939131658961\n",
      "55 Regression Coef (Weights): [-0.07619462 -0.07619462]  Cost (negative LLH) :, 2.9421314643123506\n",
      "56 Regression Coef (Weights): [-0.07632759 -0.07632759]  Cost (negative LLH) :, 2.941426763136177\n",
      "57 Regression Coef (Weights): [-0.07644426 -0.07644426]  Cost (negative LLH) :, 2.9408113509073717\n",
      "58 Regression Coef (Weights): [-0.07654667 -0.07654667]  Cost (negative LLH) :, 2.9402734908781953\n",
      "59 Regression Coef (Weights): [-0.07663657 -0.07663657]  Cost (negative LLH) :, 2.939803084313266\n",
      "60 Regression Coef (Weights): [-0.0767155 -0.0767155]  Cost (negative LLH) :, 2.9393914209058676\n",
      "61 Regression Coef (Weights): [-0.07678482 -0.07678482]  Cost (negative LLH) :, 2.939030971677986\n",
      "62 Regression Coef (Weights): [-0.07684569 -0.07684569]  Cost (negative LLH) :, 2.938715216233301\n",
      "63 Regression Coef (Weights): [-0.07689916 -0.07689916]  Cost (negative LLH) :, 2.9384384979612617\n",
      "64 Regression Coef (Weights): [-0.07694613 -0.07694613]  Cost (negative LLH) :, 2.938195902118995\n",
      "65 Regression Coef (Weights): [-0.07698739 -0.07698739]  Cost (negative LLH) :, 2.937983152745222\n",
      "66 Regression Coef (Weights): [-0.07702364 -0.07702364]  Cost (negative LLH) :, 2.937796525159852\n",
      "67 Regression Coef (Weights): [-0.07705549 -0.07705549]  Cost (negative LLH) :, 2.9376327714288135\n",
      "68 Regression Coef (Weights): [-0.07708348 -0.07708348]  Cost (negative LLH) :, 2.9374890566664935\n",
      "69 Regression Coef (Weights): [-0.07710807 -0.07710807]  Cost (negative LLH) :, 2.9373629044386353\n",
      "70 Regression Coef (Weights): [-0.07712968 -0.07712968]  Cost (negative LLH) :, 2.9372521498394426\n",
      "71 Regression Coef (Weights): [-0.07714867 -0.07714867]  Cost (negative LLH) :, 2.9371548990658805\n",
      "72 Regression Coef (Weights): [-0.07716536 -0.07716536]  Cost (negative LLH) :, 2.937069494512831\n",
      "73 Regression Coef (Weights): [-0.07718002 -0.07718002]  Cost (negative LLH) :, 2.9369944845753966\n",
      "74 Regression Coef (Weights): [-0.07719291 -0.07719291]  Cost (negative LLH) :, 2.936928597477023\n",
      "75 Regression Coef (Weights): [-0.07720424 -0.07720424]  Cost (negative LLH) :, 2.936870718550557\n",
      "76 Regression Coef (Weights): [-0.0772142 -0.0772142]  Cost (negative LLH) :, 2.9368198704885344\n",
      "77 Regression Coef (Weights): [-0.07722295 -0.07722295]  Cost (negative LLH) :, 2.9367751961527717\n",
      "78 Regression Coef (Weights): [-0.07723064 -0.07723064]  Cost (negative LLH) :, 2.936735943594624\n",
      "79 Regression Coef (Weights): [-0.0772374 -0.0772374]  Cost (negative LLH) :, 2.9367014529884488\n",
      "80 Regression Coef (Weights): [-0.07724334 -0.07724334]  Cost (negative LLH) :, 2.9366711452236833\n",
      "81 Regression Coef (Weights): [-0.07724856 -0.07724856]  Cost (negative LLH) :, 2.936644511937077\n",
      "82 Regression Coef (Weights): [-0.07725315 -0.07725315]  Cost (negative LLH) :, 2.936621106797125\n",
      "83 Regression Coef (Weights): [-0.07725719 -0.07725719]  Cost (negative LLH) :, 2.936600537878621\n",
      "84 Regression Coef (Weights): [-0.07726073 -0.07726073]  Cost (negative LLH) :, 2.936582460987309\n"
     ]
    },
    {
     "name": "stdout",
     "output_type": "stream",
     "text": [
      "85 Regression Coef (Weights): [-0.07726385 -0.07726385]  Cost (negative LLH) :, 2.936566573813377\n",
      "86 Regression Coef (Weights): [-0.07726659 -0.07726659]  Cost (negative LLH) :, 2.936552610808688\n",
      "87 Regression Coef (Weights): [-0.077269 -0.077269]  Cost (negative LLH) :, 2.936540338696429\n",
      "88 Regression Coef (Weights): [-0.07727112 -0.07727112]  Cost (negative LLH) :, 2.936529552533789\n",
      "89 Regression Coef (Weights): [-0.07727298 -0.07727298]  Cost (negative LLH) :, 2.9365200722585247\n",
      "90 Regression Coef (Weights): [-0.07727461 -0.07727461]  Cost (negative LLH) :, 2.9365117396591542\n",
      "91 Regression Coef (Weights): [-0.07727605 -0.07727605]  Cost (negative LLH) :, 2.9365044157162026\n",
      "92 Regression Coef (Weights): [-0.07727732 -0.07727732]  Cost (negative LLH) :, 2.9364979782685743\n",
      "93 Regression Coef (Weights): [-0.07727843 -0.07727843]  Cost (negative LLH) :, 2.936492319964934\n",
      "94 Regression Coef (Weights): [-0.0772794 -0.0772794]  Cost (negative LLH) :, 2.9364873464650088\n",
      "95 Regression Coef (Weights): [-0.07728026 -0.07728026]  Cost (negative LLH) :, 2.936482974860087\n",
      "96 Regression Coef (Weights): [-0.07728102 -0.07728102]  Cost (negative LLH) :, 2.936479132285845\n",
      "97 Regression Coef (Weights): [-0.07728168 -0.07728168]  Cost (negative LLH) :, 2.936475754703955\n",
      "98 Regression Coef (Weights): [-0.07728226 -0.07728226]  Cost (negative LLH) :, 2.9364727858318203\n",
      "99 Regression Coef (Weights): [-0.07728278 -0.07728278]  Cost (negative LLH) :, 2.936470176202366\n"
     ]
    }
   ],
   "source": [
    "num_iteration = 100\n",
    "learning_rate = 0.001\n",
    "coef = np.ones(2) \n",
    "# number of data dimention, feature vector dimention\n",
    "\n",
    "\n",
    "# We want to keep track of the costs so that we can visualize it later. \n",
    "cost_array = []\n",
    "old_cost = 0\n",
    "old_coef = coef\n",
    "\n",
    "reg_lambda = 10\n",
    "\n",
    "for i in range(num_iteration):\n",
    "    \n",
    "    rdd = trainRDD.map(lambda x: (llh_cost_gradient(x, coef)))\n",
    "    result = rdd.reduce(lambda x,y: [x[0] + y[0], x[1] + y[1] ])\n",
    "    \n",
    "    gradient = result[1] + 2 * reg_lambda * coef\n",
    "\n",
    "    cost = result[0] + np.sum(coef)\n",
    "    \n",
    "    print(str(i) + \" Regression Coef (Weights): \"+ str(coef) + \"  Cost (negative LLH) :, \" + str(cost))\n",
    "    \n",
    "    # update the weights \n",
    "    coef = coef - learning_rate * gradient"
   ]
  },
  {
   "cell_type": "code",
   "execution_count": 9,
   "metadata": {},
   "outputs": [],
   "source": [
    "def sigmoid(x):\n",
    "    return 1.0 / (1 + np.exp(-x))"
   ]
  },
  {
   "cell_type": "code",
   "execution_count": 10,
   "metadata": {},
   "outputs": [
    {
     "data": {
      "text/plain": [
       "0.5000249999999792"
      ]
     },
     "execution_count": 10,
     "metadata": {},
     "output_type": "execute_result"
    }
   ],
   "source": [
    "sigmoid(0.0001)"
   ]
  },
  {
   "cell_type": "code",
   "execution_count": 11,
   "metadata": {},
   "outputs": [
    {
     "data": {
      "text/plain": [
       "0.4999750000000208"
      ]
     },
     "execution_count": 11,
     "metadata": {},
     "output_type": "execute_result"
    }
   ],
   "source": [
    "sigmoid(-0.0001)"
   ]
  },
  {
   "cell_type": "code",
   "execution_count": 12,
   "metadata": {},
   "outputs": [],
   "source": [
    " def prediction(x, coef, threshold):\n",
    "        \"\"\"calculate the theta and label with 1 if theta > 0  \"\"\"\n",
    "        theta = np.dot(x[1], coef)\n",
    "        \n",
    "        # Instead of calculating the sigmoid you simply calculate the theta and save computations. \n",
    "        probabilities = sigmoid(theta)\n",
    "        \n",
    "        prediction = 1 if probabilities >= threshold else 0\n",
    "        \n",
    "        return (x[0] , prediction, probabilities, theta,  x[1])"
   ]
  },
  {
   "cell_type": "code",
   "execution_count": 13,
   "metadata": {},
   "outputs": [
    {
     "data": {
      "text/plain": [
       "[(1, 1, 0.4614351354261673, -0.1545664510765309, array([1, 1])),\n",
       " (1, 1, 0.4233264017142462, -0.3091329021530618, array([2, 2])),\n",
       " (1, 1, 0.3861086021960976, -0.46369935322959266, array([3, 3])),\n",
       " (0, 0, 0.1757133298340575, -1.5456645107653089, array([10, 10])),\n",
       " (0, 0, 0.15443510254692605, -1.7002309618418399, array([11, 11])),\n",
       " (0, 0, 0.13531060910954884, -1.8547974129183706, array([12, 12]))]"
      ]
     },
     "execution_count": 13,
     "metadata": {},
     "output_type": "execute_result"
    }
   ],
   "source": [
    "# More info about threshold moving here \n",
    "# https://machinelearningmastery.com/threshold-moving-for-imbalanced-classification/\n",
    "\n",
    "rdd_results = trainRDD.map(lambda x: prediction(x, coef, 0.3))\n",
    "rdd_results.collect()"
   ]
  }
 ],
 "metadata": {
  "kernelspec": {
   "display_name": "Python 3",
   "language": "python",
   "name": "python3"
  },
  "language_info": {
   "codemirror_mode": {
    "name": "ipython",
    "version": 3
   },
   "file_extension": ".py",
   "mimetype": "text/x-python",
   "name": "python",
   "nbconvert_exporter": "python",
   "pygments_lexer": "ipython3",
   "version": "3.8.3"
  }
 },
 "nbformat": 4,
 "nbformat_minor": 4
}
