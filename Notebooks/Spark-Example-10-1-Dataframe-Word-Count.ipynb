{
 "cells": [
  {
   "cell_type": "code",
   "execution_count": 1,
   "id": "7384c88e",
   "metadata": {},
   "outputs": [],
   "source": [
    "text_data = sqlContext.read.format('text')\\\n",
    "    .options(header='true', inferSchema='true')\\\n",
    "    .load(\"../Spark-Example-Word-Count/20-news-same-line.txt\")"
   ]
  },
  {
   "cell_type": "code",
   "execution_count": 2,
   "id": "213c9ab9",
   "metadata": {},
   "outputs": [
    {
     "name": "stderr",
     "output_type": "stream",
     "text": [
      "\r",
      "[Stage 0:>                                                          (0 + 1) / 1]\r",
      "\r",
      "                                                                                \r"
     ]
    },
    {
     "name": "stdout",
     "output_type": "stream",
     "text": [
      "+--------------------+\n",
      "|               value|\n",
      "+--------------------+\n",
      "|<doc id=\"20_newsg...|\n",
      "|<doc id=\"20_newsg...|\n",
      "|<doc id=\"20_newsg...|\n",
      "|<doc id=\"20_newsg...|\n",
      "|<doc id=\"20_newsg...|\n",
      "|<doc id=\"20_newsg...|\n",
      "|<doc id=\"20_newsg...|\n",
      "|<doc id=\"20_newsg...|\n",
      "|<doc id=\"20_newsg...|\n",
      "|<doc id=\"20_newsg...|\n",
      "|<doc id=\"20_newsg...|\n",
      "|<doc id=\"20_newsg...|\n",
      "|<doc id=\"20_newsg...|\n",
      "|<doc id=\"20_newsg...|\n",
      "|<doc id=\"20_newsg...|\n",
      "|<doc id=\"20_newsg...|\n",
      "|<doc id=\"20_newsg...|\n",
      "|<doc id=\"20_newsg...|\n",
      "|<doc id=\"20_newsg...|\n",
      "|<doc id=\"20_newsg...|\n",
      "+--------------------+\n",
      "only showing top 20 rows\n",
      "\n"
     ]
    }
   ],
   "source": [
    "text_data.show()"
   ]
  },
  {
   "cell_type": "code",
   "execution_count": 3,
   "id": "4152aad2",
   "metadata": {},
   "outputs": [
    {
     "name": "stdout",
     "output_type": "stream",
     "text": [
      "root\n",
      " |-- value: string (nullable = true)\n",
      "\n"
     ]
    }
   ],
   "source": [
    "text_data.printSchema()"
   ]
  },
  {
   "cell_type": "code",
   "execution_count": 4,
   "id": "f2d9b3a3",
   "metadata": {},
   "outputs": [
    {
     "data": {
      "text/plain": [
       "Row(value='<doc id=\"20_newsgroups/comp.graphics/37261\" url=\"\" title=\"20_newsgroups/comp.graphics/37261\"> From: lipman@oasys.dt.navy.mil (Robert Lipman) Subject: CALL FOR PRESENTATIONS: Navy SciViz/VR Seminar Date: 19 Mar 93 20:10:23 GMT Distribution: usa Lines: 65   CALL FOR PRESENTATIONS  NAVY SCIENTIFIC VISUALIZATION AND VIRTUAL REALITY SEMINAR  Tuesday, June 22, 1993  Carderock Division, Naval Surface Warfare Center formerly the David Taylor Research Center) Bethesda, Maryland  SPONSOR: NESS (Navy Engineering Software System) is sponsoring a  one-day Navy Scientific Visualization and Virtual Reality Seminar.   The purpose of the seminar is to present and exchange information for Navy-related scientific visualization and virtual reality programs,  research, developments, and applications.  PRESENTATIONS: Presentations are solicited on all aspects of  Navy-related scientific visualization and virtual reality.  All  current work, works-in-progress, and proposed work by Navy  organizations will be considered.  Four types of presentations are  available.  Regular presentation: 20-30 minutes in length Short presentation: 10 minutes in length Video presentation: a stand-alone videotape (author need not  attend the seminar) Scientific visualization or virtual reality demonstration (BYOH)  Accepted presentations will not be published in any proceedings,  however, viewgraphs and other materials will be reproduced for  seminar attendees.  ABSTRACTS: Authors should submit a one page abstract and/or videotape to:  Robert Lipman Naval Surface Warfare Center, Carderock Division Code 2042 Bethesda, Maryland  20084-5000  VOICE  227-3618;  FAX  227-5753   E-MAIL  lipman@oasys.dt.navy.mil  Authors should include the type of presentation, their affiliations,  addresses, telephone and FAX numbers, and addresses.  Multi-author  papers should designate one point of contact.  DEADLINES: The abstact submission deadline is April 30, 1993.   Notification of acceptance will be sent by May 14, 1993.   Materials for reproduction must be received by June 1, 1993.  For further information, contact Robert Lipman at the above address.  PLEASE DISTRIBUTE AS WIDELY AS POSSIBLE, THANKS.     Robert Lipman                     | Internet: lipman@oasys.dt.navy.mil David Taylor Model Basin - CDNSWC |       or: lip@ocean.dt.navy.mil Computational Signatures and      | Voicenet:  227-3618 Structures Group, Code 2042    | Factsnet:  227-5753 Bethesda, Maryland  20084-5000    | Phishnet: stockings@long.legs  The sixth sick shiek\\'s sixth sheep\\'s sick. </doc> ')"
      ]
     },
     "execution_count": 4,
     "metadata": {},
     "output_type": "execute_result"
    }
   ],
   "source": [
    "text_data.first()"
   ]
  },
  {
   "cell_type": "code",
   "execution_count": 6,
   "id": "5ef6e0f7",
   "metadata": {},
   "outputs": [
    {
     "name": "stdout",
     "output_type": "stream",
     "text": [
      "+--------------------+\n",
      "|                word|\n",
      "+--------------------+\n",
      "|                <doc|\n",
      "|id=\"20_newsgroups...|\n",
      "|              url=\"\"|\n",
      "|title=\"20_newsgro...|\n",
      "|               From:|\n",
      "|lipman@oasys.dt.n...|\n",
      "|             (Robert|\n",
      "|             Lipman)|\n",
      "|            Subject:|\n",
      "|                CALL|\n",
      "|                 FOR|\n",
      "|      PRESENTATIONS:|\n",
      "|                Navy|\n",
      "|           SciViz/VR|\n",
      "|             Seminar|\n",
      "|               Date:|\n",
      "|                  19|\n",
      "|                 Mar|\n",
      "|                  93|\n",
      "|            20:10:23|\n",
      "+--------------------+\n",
      "only showing top 20 rows\n",
      "\n"
     ]
    }
   ],
   "source": [
    "from pyspark.sql.functions import split, explode, count, desc\n",
    "\n",
    "# Assuming your DataFrame is named 'text_data'\n",
    "# Split the text_data column into words using spaces as the delimiter\n",
    "words_df = text_data.select(split(text_data.value, \" \").alias(\"words\"))\n",
    "# Explode the list of words into individual rows\n",
    "exploded_words_df = words_df.select(explode(words_df.words).alias(\"word\"))\n",
    "exploded_words_df.show()"
   ]
  },
  {
   "cell_type": "code",
   "execution_count": 7,
   "id": "57500e50",
   "metadata": {},
   "outputs": [
    {
     "name": "stderr",
     "output_type": "stream",
     "text": [
      "[Stage 4:====================================>                      (5 + 3) / 8]\r"
     ]
    },
    {
     "name": "stdout",
     "output_type": "stream",
     "text": [
      "+--------------------+-----+\n",
      "|                word|count|\n",
      "+--------------------+-----+\n",
      "|           Factsnet:|    3|\n",
      "|               input|  364|\n",
      "|                some|10015|\n",
      "|               those| 4797|\n",
      "|                 few| 2441|\n",
      "|title=\"20_newsgro...|    1|\n",
      "|                 UAB|    4|\n",
      "|               still| 3206|\n",
      "|                  By|  799|\n",
      "|                 X\\t|  343|\n",
      "|                hope|  982|\n",
      "|           standards|  208|\n",
      "|            15:02:12|    1|\n",
      "|           connected|  227|\n",
      "|              travel|   84|\n",
      "|            20:21:46|    1|\n",
      "|   recently-released|    1|\n",
      "|             from/to|    2|\n",
      "|                 ...| 1237|\n",
      "|title=\"20_newsgro...|    1|\n",
      "+--------------------+-----+\n",
      "only showing top 20 rows\n",
      "\n"
     ]
    },
    {
     "name": "stderr",
     "output_type": "stream",
     "text": [
      "\r",
      "                                                                                \r"
     ]
    }
   ],
   "source": [
    "from pyspark.sql.functions import split, explode, count, desc\n",
    "\n",
    "# Assuming your DataFrame is named 'text_data'\n",
    "# Split the text_data column into words using spaces as the delimiter\n",
    "words_df = text_data.select(split(text_data.value, \" \").alias(\"words\"))\n",
    "\n",
    "# Explode the list of words into individual rows\n",
    "exploded_words_df = words_df.select(explode(words_df.words).alias(\"word\"))\n",
    "\n",
    "# Perform the Word Count\n",
    "word_count_df = exploded_words_df.groupBy(\"word\").agg(count(\"*\").alias(\"count\"))\n",
    "\n",
    "# Show or save the results\n",
    "word_count_df.show()\n"
   ]
  },
  {
   "cell_type": "code",
   "execution_count": 8,
   "id": "96c2ba9e",
   "metadata": {},
   "outputs": [
    {
     "name": "stderr",
     "output_type": "stream",
     "text": [
      "[Stage 7:============================================>              (6 + 2) / 8]\r"
     ]
    },
    {
     "name": "stdout",
     "output_type": "stream",
     "text": [
      "+----+------+\n",
      "|word| count|\n",
      "+----+------+\n",
      "|    |909755|\n",
      "| the|225468|\n",
      "|  to|124251|\n",
      "|  of|113153|\n",
      "|   a| 98699|\n",
      "| and| 93602|\n",
      "|  is| 69306|\n",
      "|   I| 69160|\n",
      "|  in| 66165|\n",
      "|that| 63147|\n",
      "+----+------+\n",
      "\n"
     ]
    },
    {
     "name": "stderr",
     "output_type": "stream",
     "text": [
      "\r",
      "                                                                                \r"
     ]
    }
   ],
   "source": [
    "# Get the top 10 words with the highest counts\n",
    "top_10_words = word_count_df.orderBy(desc(\"count\")).limit(10)\n",
    "top_10_words.show()"
   ]
  },
  {
   "cell_type": "markdown",
   "id": "47db1cb7",
   "metadata": {},
   "source": [
    "# Using withColumn() operation"
   ]
  },
  {
   "cell_type": "code",
   "execution_count": 18,
   "id": "44a13e80",
   "metadata": {},
   "outputs": [
    {
     "name": "stderr",
     "output_type": "stream",
     "text": [
      "[Stage 16:=====================>                                    (3 + 5) / 8]\r"
     ]
    },
    {
     "name": "stdout",
     "output_type": "stream",
     "text": [
      "+----+------+\n",
      "|word| count|\n",
      "+----+------+\n",
      "|    |909755|\n",
      "| the|225468|\n",
      "|  to|124251|\n",
      "|  of|113153|\n",
      "|   a| 98699|\n",
      "| and| 93602|\n",
      "|  is| 69306|\n",
      "|   I| 69160|\n",
      "|  in| 66165|\n",
      "|that| 63147|\n",
      "+----+------+\n",
      "\n"
     ]
    },
    {
     "name": "stderr",
     "output_type": "stream",
     "text": [
      "\r",
      "                                                                                \r"
     ]
    }
   ],
   "source": [
    "# Assuming your DataFrame is named 'text_data'\n",
    "# Split the text_data column into words using spaces as the delimiter\n",
    "words_df = text_data.withColumn(\"words\", split(text_data.value, \" \"))\n",
    "\n",
    "# Explode the list of words into individual rows\n",
    "exploded_words_df = words_df.select(explode(words_df.words).alias(\"word\"))\n",
    "\n",
    "# Perform the Word Count\n",
    "word_count_df = exploded_words_df.groupBy(\"word\").agg(count(\"*\").alias(\"count\"))\n",
    "\n",
    "# Get the top 10 words with the highest counts\n",
    "top_10_words = word_count_df.orderBy(desc(\"count\")).limit(10)\n",
    "\n",
    "# Show or save the top 10 results\n",
    "top_10_words.show()\n"
   ]
  },
  {
   "cell_type": "code",
   "execution_count": null,
   "id": "b7ee5743",
   "metadata": {},
   "outputs": [],
   "source": []
  }
 ],
 "metadata": {
  "kernelspec": {
   "display_name": "Python 3 (ipykernel)",
   "language": "python",
   "name": "python3"
  },
  "language_info": {
   "codemirror_mode": {
    "name": "ipython",
    "version": 3
   },
   "file_extension": ".py",
   "mimetype": "text/x-python",
   "name": "python",
   "nbconvert_exporter": "python",
   "pygments_lexer": "ipython3",
   "version": "3.11.7"
  }
 },
 "nbformat": 4,
 "nbformat_minor": 5
}
