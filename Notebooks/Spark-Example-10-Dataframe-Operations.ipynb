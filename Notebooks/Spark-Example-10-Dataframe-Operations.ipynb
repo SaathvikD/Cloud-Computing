{
 "cells": [
  {
   "cell_type": "markdown",
   "metadata": {},
   "source": [
    "# createDataFrame"
   ]
  },
  {
   "cell_type": "code",
   "execution_count": 18,
   "metadata": {
    "colab": {
     "base_uri": "https://localhost:8080/",
     "height": 35
    },
    "colab_type": "code",
    "id": "4_ItI6cSTQrt",
    "outputId": "8318578f-f345-402b-a5d7-f05d4dc2c236"
   },
   "outputs": [
    {
     "data": {
      "text/plain": [
       "[Row(drinker='Chris', beer='Berliner', score=5)]"
      ]
     },
     "execution_count": 18,
     "metadata": {},
     "output_type": "execute_result"
    }
   ],
   "source": [
    "a = [('Chris', 'Berliner', 5)]\n",
    "sqlContext.createDataFrame(a, ['drinker', 'beer', 'score']).collect()"
   ]
  },
  {
   "cell_type": "code",
   "execution_count": 19,
   "metadata": {
    "colab": {
     "base_uri": "https://localhost:8080/",
     "height": 35
    },
    "colab_type": "code",
    "id": "43l7vpi1_7gf",
    "outputId": "2b72c8d1-db4c-4e6a-c17f-e9cd4e917751"
   },
   "outputs": [
    {
     "data": {
      "text/plain": [
       "[Row(drinker='Chris', beer='Berliner', score=5)]"
      ]
     },
     "execution_count": 19,
     "metadata": {},
     "output_type": "execute_result"
    }
   ],
   "source": [
    "spark.createDataFrame(a, ['drinker', 'beer', 'score']).collect()"
   ]
  },
  {
   "cell_type": "code",
   "execution_count": 20,
   "metadata": {
    "colab": {
     "base_uri": "https://localhost:8080/",
     "height": 305
    },
    "colab_type": "code",
    "id": "I2eiKpYoAruH",
    "outputId": "ab746040-d1d4-41e4-90df-da4925f434f3"
   },
   "outputs": [
    {
     "name": "stdout",
     "output_type": "stream",
     "text": [
      "+-------+--------+\n",
      "|Drinker|    Beer|\n",
      "+-------+--------+\n",
      "|  Chris|     Bud|\n",
      "|    Kia|Berliner|\n",
      "|   Matt|    ARJK|\n",
      "+-------+--------+\n",
      "\n",
      "+-------+------+\n",
      "|Drinker|   Bar|\n",
      "+-------+------+\n",
      "|  Chris|Bohene|\n",
      "|    Kia|Little|\n",
      "|  Oscar| Griff|\n",
      "+-------+------+\n",
      "\n"
     ]
    }
   ],
   "source": [
    "likes = [('Chris', 'Bud'), ('Kia', 'Berliner'), ('Matt', 'ARJK')]\n",
    "frequents = [('Chris', 'Bohene'), ('Kia', 'Little'), ('Oscar', 'Griff')] \n",
    "\n",
    "likesName=['Drinker', 'Beer']\n",
    "frequentsName=['Drinker', 'Bar']\n",
    "\n",
    "likesDF = sqlContext.createDataFrame(likes, likesName)\n",
    "frequentsDF = sqlContext.createDataFrame(frequents, frequentsName)\n",
    "\n",
    "likesDF.show()\n",
    "frequentsDF.show()"
   ]
  },
  {
   "cell_type": "markdown",
   "metadata": {},
   "source": [
    "# join"
   ]
  },
  {
   "cell_type": "code",
   "execution_count": 21,
   "metadata": {
    "colab": {
     "base_uri": "https://localhost:8080/",
     "height": 161
    },
    "colab_type": "code",
    "id": "-CDxXdbLB9-C",
    "outputId": "f533bdd8-7609-4965-8d67-9764ecb5cc06"
   },
   "outputs": [
    {
     "name": "stdout",
     "output_type": "stream",
     "text": [
      "+-------+--------+-------+------+\n",
      "|Drinker|    Beer|Drinker|   Bar|\n",
      "+-------+--------+-------+------+\n",
      "|  Chris|     Bud|  Chris|Bohene|\n",
      "|    Kia|Berliner|    Kia|Little|\n",
      "|   NULL|    NULL|  Oscar| Griff|\n",
      "+-------+--------+-------+------+\n",
      "\n"
     ]
    }
   ],
   "source": [
    "likesDF.join(frequentsDF, likesDF.Drinker == frequentsDF.Drinker, 'right').show()"
   ]
  },
  {
   "cell_type": "markdown",
   "metadata": {},
   "source": [
    "# full join"
   ]
  },
  {
   "cell_type": "code",
   "execution_count": 22,
   "metadata": {
    "colab": {
     "base_uri": "https://localhost:8080/",
     "height": 179
    },
    "colab_type": "code",
    "id": "EKAPXzzyIXkX",
    "outputId": "c4422203-25ae-4a9a-9fc4-26995d222b44"
   },
   "outputs": [
    {
     "name": "stdout",
     "output_type": "stream",
     "text": [
      "+-------+--------+-------+------+\n",
      "|Drinker|    Beer|Drinker|   Bar|\n",
      "+-------+--------+-------+------+\n",
      "|  Chris|     Bud|  Chris|Bohene|\n",
      "|    Kia|Berliner|    Kia|Little|\n",
      "|   Matt|    ARJK|   NULL|  NULL|\n",
      "|   NULL|    NULL|  Oscar| Griff|\n",
      "+-------+--------+-------+------+\n",
      "\n"
     ]
    }
   ],
   "source": [
    "likesDF.join(frequentsDF, likesDF.Drinker == frequentsDF.Drinker, 'full').show()"
   ]
  },
  {
   "cell_type": "markdown",
   "metadata": {},
   "source": [
    "# left_anti"
   ]
  },
  {
   "cell_type": "code",
   "execution_count": 23,
   "metadata": {
    "colab": {
     "base_uri": "https://localhost:8080/",
     "height": 125
    },
    "colab_type": "code",
    "id": "cmLLZkq0I3sA",
    "outputId": "d6df70b1-881e-403c-ce61-09b2ff372e06"
   },
   "outputs": [
    {
     "name": "stdout",
     "output_type": "stream",
     "text": [
      "+-------+----+\n",
      "|Drinker|Beer|\n",
      "+-------+----+\n",
      "|   Matt|ARJK|\n",
      "+-------+----+\n",
      "\n"
     ]
    }
   ],
   "source": [
    "likesDF.join(frequentsDF, likesDF.Drinker == frequentsDF.Drinker, 'left_anti').show()"
   ]
  },
  {
   "cell_type": "code",
   "execution_count": 24,
   "metadata": {
    "colab": {
     "base_uri": "https://localhost:8080/",
     "height": 35
    },
    "colab_type": "code",
    "id": "ncXg-s47Jvoo",
    "outputId": "cf60a2a6-6a9d-4199-87b7-ee335b1e5188"
   },
   "outputs": [
    {
     "data": {
      "text/plain": [
       "3"
      ]
     },
     "execution_count": 24,
     "metadata": {},
     "output_type": "execute_result"
    }
   ],
   "source": [
    "likesDF.count()"
   ]
  },
  {
   "cell_type": "code",
   "execution_count": 25,
   "metadata": {
    "colab": {
     "base_uri": "https://localhost:8080/",
     "height": 323
    },
    "colab_type": "code",
    "id": "YlbpwelIp-z8",
    "outputId": "d5cd4777-424a-4713-ba8d-801181075975"
   },
   "outputs": [
    {
     "name": "stdout",
     "output_type": "stream",
     "text": [
      "+---+---+\n",
      "| id|  c|\n",
      "+---+---+\n",
      "|  a|  1|\n",
      "|  b|  1|\n",
      "|  b|  1|\n",
      "|  a|  2|\n",
      "+---+---+\n",
      "\n",
      "+---+---+\n",
      "| id|  c|\n",
      "+---+---+\n",
      "|  a|  1|\n",
      "|  b|  1|\n",
      "|  a|  2|\n",
      "+---+---+\n",
      "\n"
     ]
    }
   ],
   "source": [
    "df = spark.createDataFrame([('a', 1), ('b', 1), ('b', 1), ('a', 2)], ('id', 'c'))\n",
    "df.show()\n",
    "df.distinct().show()"
   ]
  },
  {
   "cell_type": "code",
   "execution_count": 26,
   "metadata": {
    "colab": {
     "base_uri": "https://localhost:8080/",
     "height": 233
    },
    "colab_type": "code",
    "id": "xafz6OItqsgd",
    "outputId": "d8d341fd-cdd1-4330-a9a4-291456308180"
   },
   "outputs": [
    {
     "name": "stdout",
     "output_type": "stream",
     "text": [
      "+---+---+\n",
      "| id|  c|\n",
      "+---+---+\n",
      "|  a|  1|\n",
      "|  b|  1|\n",
      "|  b|  1|\n",
      "|  a|  2|\n",
      "+---+---+\n",
      "\n",
      "[Row(id='a', c=1), Row(id='b', c=1), Row(id='b', c=1), Row(id='a', c=2)]\n",
      "[['a', 1], ['b', 1], ['b', 1], ['a', 2]]\n",
      "[('a', 1), ('b', 1), ('b', 1), ('a', 2)]\n"
     ]
    }
   ],
   "source": [
    "df = spark.createDataFrame([('a', 1), ('b', 1), ('b', 1), ('a', 2)], ('id', 'c'))\n",
    "df.show()\n",
    "rdd = df.rdd\n",
    "print(rdd.collect())\n",
    "\n",
    "print(df.rdd.map(list).collect())\n",
    "print(df.rdd.map(tuple).collect())"
   ]
  },
  {
   "cell_type": "markdown",
   "metadata": {},
   "source": [
    "# withColumn"
   ]
  },
  {
   "cell_type": "code",
   "execution_count": 27,
   "metadata": {
    "colab": {
     "base_uri": "https://localhost:8080/",
     "height": 341
    },
    "colab_type": "code",
    "id": "AY9EcLQbrSMM",
    "outputId": "0925fec8-39e3-45d2-fa57-aaa5c211d422"
   },
   "outputs": [
    {
     "name": "stdout",
     "output_type": "stream",
     "text": [
      "+----+\n",
      "|word|\n",
      "+----+\n",
      "|   a|\n",
      "|   b|\n",
      "|   b|\n",
      "|   c|\n",
      "+----+\n",
      "\n",
      "+----+-----+\n",
      "|word|COUNT|\n",
      "+----+-----+\n",
      "|   a|    1|\n",
      "|   b|    1|\n",
      "|   b|    1|\n",
      "|   c|    1|\n",
      "+----+-----+\n",
      "\n"
     ]
    }
   ],
   "source": [
    "df = spark.createDataFrame([['a'], ['b'], ['b'], ['c']], (['word']))\n",
    "df.show()\n",
    "\n",
    "from pyspark.sql.functions import lit\n",
    "new_df=df.withColumn(\"COUNT\", lit(1))\n",
    "\n",
    "new_df.show()"
   ]
  },
  {
   "cell_type": "markdown",
   "metadata": {},
   "source": [
    "# groupBy"
   ]
  },
  {
   "cell_type": "code",
   "execution_count": 28,
   "metadata": {
    "colab": {
     "base_uri": "https://localhost:8080/",
     "height": 161
    },
    "colab_type": "code",
    "id": "jFzIofcGPfxp",
    "outputId": "48648bef-f2e3-4a64-e35b-1e2845f7bb2a"
   },
   "outputs": [
    {
     "name": "stdout",
     "output_type": "stream",
     "text": [
      "+----+----------+\n",
      "|word|sum(COUNT)|\n",
      "+----+----------+\n",
      "|   a|         1|\n",
      "|   b|         2|\n",
      "|   c|         1|\n",
      "+----+----------+\n",
      "\n"
     ]
    }
   ],
   "source": [
    "from pyspark.sql import functions as func\n",
    "new_df.groupBy(\"word\").agg(func.sum(\"COUNT\")).show()\n"
   ]
  },
  {
   "cell_type": "code",
   "execution_count": 29,
   "metadata": {
    "colab": {
     "base_uri": "https://localhost:8080/",
     "height": 305
    },
    "colab_type": "code",
    "id": "xL-ROpzDkaOP",
    "outputId": "1e17264f-9349-45c2-c1f7-3429f3762f05"
   },
   "outputs": [
    {
     "name": "stdout",
     "output_type": "stream",
     "text": [
      "+------+---+\n",
      "|  Name|Age|\n",
      "+------+---+\n",
      "| Alice| 25|\n",
      "|Robert| 12|\n",
      "| Chris| 45|\n",
      "+------+---+\n",
      "\n",
      "+------+---+--------+\n",
      "|  Name|Age|Maturity|\n",
      "+------+---+--------+\n",
      "| Alice| 25|   Adult|\n",
      "|Robert| 12|   Child|\n",
      "| Chris| 45|   Adult|\n",
      "+------+---+--------+\n",
      "\n"
     ]
    }
   ],
   "source": [
    "from pyspark.sql.types import StringType\n",
    "from pyspark.sql.functions import udf\n",
    "\n",
    "l = [('Alice', 25), ('Robert', 12), ('Chris', 45)]\n",
    "df = sqlContext.createDataFrame(l, ['Name', 'Age'])\n",
    "df.show()\n",
    "\n",
    "\n",
    "maturity_udf = udf(lambda age: \"Adult\" if age >=18 else \"Child\", StringType())\n",
    "\n",
    "newdf=df.withColumn(\"Maturity\", maturity_udf(df.Age))\n",
    "newdf.show()"
   ]
  },
  {
   "cell_type": "code",
   "execution_count": 30,
   "metadata": {
    "colab": {
     "base_uri": "https://localhost:8080/",
     "height": 125
    },
    "colab_type": "code",
    "id": "-eaQwifam-xC",
    "outputId": "f90d2aca-7d2b-439c-fa61-9e8d1b17b9c3"
   },
   "outputs": [
    {
     "name": "stdout",
     "output_type": "stream",
     "text": [
      "+-----+---+\n",
      "| Name|Age|\n",
      "+-----+---+\n",
      "|Chris| 45|\n",
      "+-----+---+\n",
      "\n"
     ]
    }
   ],
   "source": [
    "df.orderBy(\"Age\", ascending=False).limit(1).show()"
   ]
  },
  {
   "cell_type": "code",
   "execution_count": 31,
   "metadata": {
    "colab": {
     "base_uri": "https://localhost:8080/",
     "height": 53
    },
    "colab_type": "code",
    "id": "px64C_L6wXGE",
    "outputId": "17478de9-afa8-43a7-a891-9767e876f86c"
   },
   "outputs": [
    {
     "name": "stdout",
     "output_type": "stream",
     "text": [
      "[array([0.66307118, 0.46068421]), array([0.43310656, 0.22898337]), array([0.23904133, 0.22017266]), array([0.59881599, 0.91643094])]\n"
     ]
    },
    {
     "data": {
      "text/plain": [
       "array([1.93403506, 1.82627119])"
      ]
     },
     "execution_count": 31,
     "metadata": {},
     "output_type": "execute_result"
    }
   ],
   "source": [
    "# generate some data to demonstrate \n",
    "# mat = np.arange(100).reshape(10, -1)\n",
    "import numpy as np\n",
    "mat = np.random.rand(8,1).reshape(4, -1)\n",
    "\n",
    "rdd = sc.parallelize(mat)\n",
    "\n",
    "\n",
    "print(rdd.collect())\n",
    "\n",
    "rdd.reduce(lambda x, y: np.add(x, y))\n",
    "\n"
   ]
  },
  {
   "cell_type": "code",
   "execution_count": 32,
   "metadata": {
    "colab": {
     "base_uri": "https://localhost:8080/",
     "height": 179
    },
    "colab_type": "code",
    "id": "n-9Nk-A4u3zf",
    "outputId": "12b5ce07-370e-4d8c-f3aa-a9c2c6dae5bd"
   },
   "outputs": [
    {
     "name": "stdout",
     "output_type": "stream",
     "text": [
      "+-----+--------------------+\n",
      "|label|            features|\n",
      "+-----+--------------------+\n",
      "|    0|[0.27848261644784...|\n",
      "|    1|[0.70812183098069...|\n",
      "|    1|[0.33874125055466...|\n",
      "|    0|[0.61040311135081...|\n",
      "+-----+--------------------+\n",
      "\n"
     ]
    }
   ],
   "source": [
    "\n",
    "from pyspark.ml.linalg import Vectors\n",
    "\n",
    "size=2\n",
    "\n",
    "data = [(0, Vectors.dense(np.random.rand(size)),),\n",
    "        (1, Vectors.dense(np.random.rand(size)),),\n",
    "        (1, Vectors.dense(np.random.rand(size)),),\n",
    "        (0, Vectors.dense(np.random.rand(size)),)]\n",
    "\n",
    "df = spark.createDataFrame(data, [\"label\", \"features\"])\n",
    "df.show()\n",
    "\n",
    "# a = df.rdd.map(lambda x: x[1]).reduce(lambda x,y: x + y )\n",
    "# print(a)"
   ]
  },
  {
   "cell_type": "code",
   "execution_count": 33,
   "metadata": {
    "colab": {
     "base_uri": "https://localhost:8080/",
     "height": 71
    },
    "colab_type": "code",
    "id": "3441OIR0Qe2D",
    "outputId": "93f105b3-f61e-4649-f604-d6688086fc85"
   },
   "outputs": [
    {
     "name": "stdout",
     "output_type": "stream",
     "text": [
      "[0.72,0.9]\n",
      "[0.66,0.15]\n"
     ]
    },
    {
     "data": {
      "text/plain": [
       "array([1.38, 1.05])"
      ]
     },
     "execution_count": 33,
     "metadata": {},
     "output_type": "execute_result"
    }
   ],
   "source": [
    "a = Vectors.dense(np.round(np.random.rand(size), 2))\n",
    "b = Vectors.dense(np.round(np.random.rand(size), 2))\n",
    "\n",
    "print(a)\n",
    "print(b)\n",
    "\n",
    "\n",
    "np.add(a , b) "
   ]
  },
  {
   "cell_type": "code",
   "execution_count": 34,
   "metadata": {
    "colab": {
     "base_uri": "https://localhost:8080/",
     "height": 35
    },
    "colab_type": "code",
    "id": "e6yUAYuJXQv-",
    "outputId": "08c56f4b-659b-41dd-f561-888adcd3758c"
   },
   "outputs": [
    {
     "data": {
      "text/plain": [
       "array([], shape=(0, 1), dtype=float64)"
      ]
     },
     "execution_count": 34,
     "metadata": {},
     "output_type": "execute_result"
    }
   ],
   "source": [
    "np.random.sample([0, 1])"
   ]
  },
  {
   "cell_type": "code",
   "execution_count": null,
   "metadata": {},
   "outputs": [],
   "source": []
  }
 ],
 "metadata": {
  "colab": {
   "collapsed_sections": [],
   "name": "Examples-CS777.ipynb",
   "provenance": []
  },
  "kernelspec": {
   "display_name": "Python 3 (ipykernel)",
   "language": "python",
   "name": "python3"
  },
  "language_info": {
   "codemirror_mode": {
    "name": "ipython",
    "version": 3
   },
   "file_extension": ".py",
   "mimetype": "text/x-python",
   "name": "python",
   "nbconvert_exporter": "python",
   "pygments_lexer": "ipython3",
   "version": "3.9.13"
  }
 },
 "nbformat": 4,
 "nbformat_minor": 1
}
