{
 "cells": [
  {
   "cell_type": "code",
   "execution_count": 1,
   "metadata": {},
   "outputs": [],
   "source": [
    "from sklearn.datasets import load_iris\n",
    "from sklearn.linear_model import LogisticRegression\n",
    "\n",
    "import matplotlib.pyplot as plt\n",
    "\n",
    "from pyspark.ml.linalg import Vectors\n",
    "from pandas import Series,DataFrame\n",
    "import pandas as pd"
   ]
  },
  {
   "cell_type": "code",
   "execution_count": 2,
   "metadata": {
    "scrolled": true
   },
   "outputs": [
    {
     "name": "stdout",
     "output_type": "stream",
     "text": [
      "[(1, 1), (2, 2), (3, 3), (10, 10), (11, 11), (12, 12)]\n",
      "[1, 1, 1, 0, 0, 0]\n"
     ]
    }
   ],
   "source": [
    "X=[(1,1), (2,2), (3, 3), (10,10), (11,11), (12,12)]\n",
    "\n",
    "label=[1,1,1,0,0,0]\n",
    "\n",
    "print(X)\n",
    "print(label)"
   ]
  },
  {
   "cell_type": "code",
   "execution_count": 3,
   "metadata": {},
   "outputs": [
    {
     "name": "stdout",
     "output_type": "stream",
     "text": [
      "[1, 2, 3, 10, 11, 12]\n"
     ]
    }
   ],
   "source": [
    "x1 = [a_tuple[0] for a_tuple in X]\n",
    "x2 = [a_tuple[0] for a_tuple in X]\n",
    "print(x1)"
   ]
  },
  {
   "cell_type": "code",
   "execution_count": 4,
   "metadata": {},
   "outputs": [
    {
     "data": {
      "image/png": "[encoded data removed]",
      "text/plain": [
       "<Figure size 640x480 with 1 Axes>"
      ]
     },
     "metadata": {},
     "output_type": "display_data"
    }
   ],
   "source": [
    "plt.scatter(x1,x2, c=label, alpha=0.9, label=\"Two Classes\")\n",
    "plt.xlabel(\"x1\")\n",
    "plt.ylabel(\"x2\")\n",
    "\n",
    "# plt.legend(loc='lower right')\n",
    "plt.show()"
   ]
  },
  {
   "cell_type": "code",
   "execution_count": 5,
   "metadata": {},
   "outputs": [
    {
     "name": "stdout",
     "output_type": "stream",
     "text": [
      "[0 0 0 0 0 0]\n",
      "[[-0.09347047 -0.09347047]]\n",
      "l2\n"
     ]
    }
   ],
   "source": [
    "# Now, let us fit a logistic regression model into this and test it on the train data. \n",
    "# this is using Scikit-learn to check our implementation\n",
    "clf = LogisticRegression(fit_intercept=False, random_state=0).fit(X, label)\n",
    "print(clf.predict(X))\n",
    "clf.score(X, label)\n",
    "print(clf.coef_)\n",
    "\n",
    "print(clf.penalty)"
   ]
  },
  {
   "cell_type": "code",
   "execution_count": 6,
   "metadata": {},
   "outputs": [
    {
     "name": "stderr",
     "output_type": "stream",
     "text": [
      "                                                                                \r"
     ]
    },
    {
     "name": "stdout",
     "output_type": "stream",
     "text": [
      "+---+--------+\n",
      "|  y|       x|\n",
      "+---+--------+\n",
      "|  1|  {1, 1}|\n",
      "|  1|  {2, 2}|\n",
      "|  1|  {3, 3}|\n",
      "|  0|{10, 10}|\n",
      "|  0|{11, 11}|\n",
      "|  0|{12, 12}|\n",
      "+---+--------+\n",
      "\n"
     ]
    },
    {
     "name": "stderr",
     "output_type": "stream",
     "text": [
      "\r",
      "[Stage 3:>                                                          (0 + 8) / 8]\r",
      "\r",
      "                                                                                \r"
     ]
    },
    {
     "data": {
      "text/plain": [
       "[(1, array([1, 1])),\n",
       " (1, array([2, 2])),\n",
       " (1, array([3, 3])),\n",
       " (0, array([10, 10])),\n",
       " (0, array([11, 11])),\n",
       " (0, array([12, 12]))]"
      ]
     },
     "execution_count": 6,
     "metadata": {},
     "output_type": "execute_result"
    }
   ],
   "source": [
    "# Let us make a RDD in Spark \n",
    "\n",
    "# # Now, we create an RDD from this data. \n",
    "# # X is a numpy array \n",
    "# # y is a simple value lable\n",
    "import numpy as np\n",
    "import pandas as pd\n",
    "from pyspark.ml.linalg import Vectors\n",
    "\n",
    "\n",
    "data = {'y':label, 'x':X}\n",
    "\n",
    "df = DataFrame(data)\n",
    "df\n",
    "\n",
    "spark_df_from_pandas = spark.createDataFrame(df, schema=['y', 'x'])\n",
    "spark_df_from_pandas.show()\n",
    "\n",
    "\n",
    "# # Now, we create an RDD from this data. \n",
    "# # X is a numpy array \n",
    "# # y is a simple value lable\n",
    "\n",
    "trainRDD=spark_df_from_pandas.rdd.map(lambda x: (x[0], np.array(x[1]) ))\n",
    "trainRDD.collect()\n"
   ]
  },
  {
   "cell_type": "code",
   "execution_count": 7,
   "metadata": {},
   "outputs": [
    {
     "name": "stderr",
     "output_type": "stream",
     "text": [
      "                                                                                \r"
     ]
    },
    {
     "data": {
      "text/plain": [
       "[LabeledPoint(1.0, [1.0,1.0]), LabeledPoint(1.0, [2.0,2.0])]"
      ]
     },
     "execution_count": 7,
     "metadata": {},
     "output_type": "execute_result"
    }
   ],
   "source": [
    "from pyspark.mllib.classification import SVMWithSGD, SVMModel, LogisticRegressionWithLBFGS\n",
    "from pyspark.mllib.regression import LabeledPoint\n",
    "\n",
    "# Load and parse the data\n",
    "\n",
    "parsedData = trainRDD.map(lambda x: LabeledPoint(x[0], x[1]))\n",
    "parsedData.take(2)"
   ]
  },
  {
   "cell_type": "code",
   "execution_count": 8,
   "metadata": {},
   "outputs": [
    {
     "name": "stderr",
     "output_type": "stream",
     "text": [
      "24/07/17 12:58:04 WARN Instrumentation: [f76e5e31] Initial coefficients will be ignored! Its dimensions (1, 2) did not match the expected size (1, 2)\n",
      "24/07/17 12:58:04 WARN InstanceBuilder: Failed to load implementation from:dev.ludovic.netlib.blas.JNIBLAS\n",
      "                                                                                \r"
     ]
    },
    {
     "data": {
      "text/plain": [
       "[(1.0, 0), (1.0, 0), (1.0, 0), (0.0, 0), (0.0, 0)]"
      ]
     },
     "execution_count": 8,
     "metadata": {},
     "output_type": "execute_result"
    }
   ],
   "source": [
    "\n",
    "# Build the model\n",
    "model = LogisticRegressionWithLBFGS.train(parsedData)\n",
    "\n",
    "# Evaluating the model on training data\n",
    "labelsAndPreds = parsedData.map(lambda p: (p.label, model.predict(p.features)))\n",
    "\n",
    "labelsAndPreds.take(5)"
   ]
  },
  {
   "cell_type": "code",
   "execution_count": 9,
   "metadata": {},
   "outputs": [
    {
     "name": "stderr",
     "output_type": "stream",
     "text": [
      "                                                                                \r"
     ]
    },
    {
     "data": {
      "text/plain": [
       "[(1.0, 0), (1.0, 0), (1.0, 0), (0.0, 0), (0.0, 0)]"
      ]
     },
     "execution_count": 9,
     "metadata": {},
     "output_type": "execute_result"
    }
   ],
   "source": [
    "\n",
    "# Build the model\n",
    "model = SVMWithSGD.train(parsedData, iterations=100)\n",
    "\n",
    "# Evaluating the model on training data\n",
    "labelsAndPreds = parsedData.map(lambda p: (p.label, model.predict(p.features)))\n",
    "labelsAndPreds.take(5)"
   ]
  },
  {
   "cell_type": "code",
   "execution_count": null,
   "metadata": {},
   "outputs": [],
   "source": []
  }
 ],
 "metadata": {
  "kernelspec": {
   "display_name": "Python 3 (ipykernel)",
   "language": "python",
   "name": "python3"
  },
  "language_info": {
   "codemirror_mode": {
    "name": "ipython",
    "version": 3
   },
   "file_extension": ".py",
   "mimetype": "text/x-python",
   "name": "python",
   "nbconvert_exporter": "python",
   "pygments_lexer": "ipython3",
   "version": "3.11.7"
  }
 },
 "nbformat": 4,
 "nbformat_minor": 4
}
