{
 "cells": [
  {
   "cell_type": "markdown",
   "metadata": {
    "colab_type": "text",
    "id": "view-in-github"
   },
   "source": [
    "<a href=\"https://colab.research.google.com/github/kiat/Cloud-Computing/blob/main/Spark-Example-TPCH/Colab_TPC_H_Example_Spark.ipynb\" target=\"_parent\"><img src=\"https://colab.research.google.com/assets/colab-badge.svg\" alt=\"Open In Colab\"/></a>"
   ]
  },
  {
   "cell_type": "code",
   "execution_count": 1,
   "metadata": {
    "colab": {
     "base_uri": "https://localhost:8080/"
    },
    "id": "LmxLySb20jtX",
    "outputId": "a832c49c-4482-4419-e078-267e2eb9fd0e"
   },
   "outputs": [
    {
     "name": "stdout",
     "output_type": "stream",
     "text": [
      "\u001b[K     |████████████████████████████████| 204.2 MB 35 kB/s \n",
      "\u001b[K     |████████████████████████████████| 198 kB 52.2 MB/s \n",
      "\u001b[?25h  Building wheel for pyspark (setup.py) ... \u001b[?25l\u001b[?25hdone\n"
     ]
    }
   ],
   "source": [
    "# Spark installation on Colab\n",
    "# !apt-get install openjdk-8-jdk-headless -qq > /dev/null\n",
    "# !wget -q https://downloads.apache.org/spark/spark-3.0.1/spark-3.0.1-bin-hadoop3.2.tgz\n",
    "# !tar xf spark-3.0.1-bin-hadoop3.2.tgz\n",
    "# !pip install -q findspark\n",
    "\n",
    "!pip install --ignore-installed -q pyspark==3.0.1"
   ]
  },
  {
   "cell_type": "code",
   "execution_count": 2,
   "metadata": {
    "id": "Nor9olN20p0M"
   },
   "outputs": [],
   "source": [
    "import os\n",
    "from pyspark.sql import SparkSession\n",
    "from pyspark import SparkContext\n",
    "\n",
    "\n",
    "import sys\n",
    "from operator import add\n",
    "\n",
    "from pyspark import SparkContext\n",
    "from pyspark import SparkConf,SparkContext\n",
    "from pyspark.streaming import StreamingContext\n",
    "import sys\n",
    "import requests\n",
    "from operator import add\n",
    "\n",
    "from pyspark.sql.types import *\n",
    "from pyspark.sql import functions as func\n",
    "\n",
    "from pyspark.sql.functions import lit\n",
    "from pyspark.sql.functions import udf\n",
    "from pyspark.sql.functions import *\n",
    "from pyspark.sql.functions import array\n",
    "\n",
    "from pyspark.sql import SQLContext\n",
    "\n",
    "spark = SparkSession.builder.master(\"local[*]\").getOrCreate()\n",
    "sc = SparkContext.getOrCreate()\n",
    "\n",
    "# conf = SparkConf(appName=\"TPCH-Example\")\n",
    "# create spark context with the above configuration\n",
    "# sc = SparkContext(conf=conf)\n",
    "\n",
    "sqlContext = SQLContext(sc)\n"
   ]
  },
  {
   "cell_type": "markdown",
   "metadata": {
    "id": "XL3CjM3406y4"
   },
   "source": []
  },
  {
   "cell_type": "code",
   "execution_count": 3,
   "metadata": {
    "id": "2bNmkjaMYk7r"
   },
   "outputs": [],
   "source": [
    "! wget -q https://raw.githubusercontent.com/kiat/Cloud-Computing/main/Spark-Example-TPCH/tpch_tables_scale_0.1/customer.tbl\n",
    "! wget -q https://raw.githubusercontent.com/kiat/Cloud-Computing/main/Spark-Example-TPCH/tpch_tables_scale_0.1/lineitem.tbl\n",
    "! wget -q https://raw.githubusercontent.com/kiat/Cloud-Computing/main/Spark-Example-TPCH/tpch_tables_scale_0.1/nation.tbl\n",
    "! wget -q https://raw.githubusercontent.com/kiat/Cloud-Computing/main/Spark-Example-TPCH/tpch_tables_scale_0.1/orders.tbl\n",
    "! wget -q https://raw.githubusercontent.com/kiat/Cloud-Computing/main/Spark-Example-TPCH/tpch_tables_scale_0.1/region.tbl\n",
    "! wget -q https://raw.githubusercontent.com/kiat/Cloud-Computing/main/Spark-Example-TPCH/tpch_tables_scale_0.1/supplier.tbl\n",
    "! wget -q https://raw.githubusercontent.com/kiat/Cloud-Computing/main/Spark-Example-TPCH/tpch_tables_scale_0.1/part.tbl\n",
    "! wget -q https://raw.githubusercontent.com/kiat/Cloud-Computing/main/Spark-Example-TPCH/tpch_tables_scale_0.1/region.tbl\n",
    "! wget -q https://raw.githubusercontent.com/kiat/Cloud-Computing/main/Spark-Example-TPCH/tpch_tables_scale_0.1/partsupp.tbl"
   ]
  },
  {
   "cell_type": "code",
   "execution_count": 4,
   "metadata": {
    "colab": {
     "base_uri": "https://localhost:8080/"
    },
    "id": "Q0qB4iql-uaK",
    "outputId": "337cef30-ac19-409d-dd57-7190f0d41bfa"
   },
   "outputs": [
    {
     "name": "stdout",
     "output_type": "stream",
     "text": [
      "total 105340\n",
      "drwxr-xr-x 1 root root     4096 Mar 24 16:16 .\n",
      "drwxr-xr-x 1 root root     4096 Mar 24 16:15 ..\n",
      "drwxr-xr-x 1 root root     4096 Mar  9 14:47 .config\n",
      "-rw-r--r-- 1 root root  2426178 Mar 24 16:16 customer.tbl\n",
      "-rw-r--r-- 1 root root 74247152 Mar 24 16:16 lineitem.tbl\n",
      "-rw-r--r-- 1 root root     2257 Mar 24 16:16 nation.tbl\n",
      "-rw-r--r-- 1 root root 16893215 Mar 24 16:16 orders.tbl\n",
      "-rw-r--r-- 1 root root 11728237 Mar 24 16:16 partsupp.tbl\n",
      "-rw-r--r-- 1 root root  2391154 Mar 24 16:16 part.tbl\n",
      "-rw-r--r-- 1 root root      412 Mar 24 16:16 region.tbl\n",
      "-rw-r--r-- 1 root root      412 Mar 24 16:16 region.tbl.1\n",
      "drwxr-xr-x 1 root root     4096 Mar  9 14:48 sample_data\n",
      "-rw-r--r-- 1 root root   139679 Mar 24 16:16 supplier.tbl\n"
     ]
    }
   ],
   "source": [
    "! ls -la "
   ]
  },
  {
   "cell_type": "code",
   "execution_count": 5,
   "metadata": {
    "colab": {
     "base_uri": "https://localhost:8080/"
    },
    "id": "h5VEYx0pAgy8",
    "outputId": "30b81bd8-531f-47ad-abbe-86f5374631d2"
   },
   "outputs": [
    {
     "name": "stdout",
     "output_type": "stream",
     "text": [
      "+--------+-------+-------+----------+--------+-------------+--------+----+----------+----------+----------+----------+-----------+-----------------+--------+--------------------+\n",
      "|ORDERKEY|PARTKEY|SUPPKEY|LINENUMBER|QUANTITY|EXTENDEDPRICE|DISCOUNT| TAX|RETURNFLAG|LINESTATUS|  SHIPDATE|COMMITDATE|RECEIPTDATE|     SHIPINSTRUCT|SHIPMODE|             COMMENT|\n",
      "+--------+-------+-------+----------+--------+-------------+--------+----+----------+----------+----------+----------+-----------+-----------------+--------+--------------------+\n",
      "|       1|  15519|    785|         1|      17|     24386.67|    0.04|0.02|         N|         O|1996-03-13|1996-02-12| 1996-03-22|DELIVER IN PERSON|   TRUCK|egular courts abo...|\n",
      "|       1|   6731|    732|         2|      36|     58958.28|    0.09|0.06|         N|         O|1996-04-12|1996-02-28| 1996-04-20| TAKE BACK RETURN|    MAIL|ly final dependen...|\n",
      "|       1|   6370|    371|         3|       8|     10210.96|     0.1|0.02|         N|         O|1996-01-29|1996-03-05| 1996-01-31| TAKE BACK RETURN| REG AIR|riously. regular,...|\n",
      "|       1|    214|    465|         4|      28|     31197.88|    0.09|0.06|         N|         O|1996-04-21|1996-03-30| 1996-05-16|             NONE|     AIR|lites. fluffily e...|\n",
      "|       1|   2403|    160|         5|      24|      31329.6|     0.1|0.04|         N|         O|1996-03-30|1996-03-14| 1996-04-01|             NONE|     FOB| pending foxes. s...|\n",
      "|       1|   1564|     67|         6|      32|     46897.92|    0.07|0.02|         N|         O|1996-01-30|1996-02-07| 1996-02-03|DELIVER IN PERSON|    MAIL|   arefully slyly ex|\n",
      "|       2|  10617|    138|         1|      38|     58049.18|     0.0|0.05|         N|         O|1997-01-28|1997-01-14| 1997-02-02| TAKE BACK RETURN|    RAIL|ven requests. dep...|\n",
      "|       3|    430|    181|         1|      45|     59869.35|    0.06| 0.0|         R|         F|1994-02-02|1994-01-04| 1994-02-23|             NONE|     AIR|ongside of the fu...|\n",
      "|       3|   1904|    658|         2|      49|      88489.1|     0.1| 0.0|         R|         F|1993-11-09|1993-12-20| 1993-11-24| TAKE BACK RETURN|    RAIL| unusual accounts...|\n",
      "|       3|  12845|    370|         3|      27|     47461.68|    0.06|0.07|         A|         F|1994-01-16|1993-11-22| 1994-01-23|DELIVER IN PERSON|    SHIP|    nal foxes wake. |\n",
      "|       3|   2938|    191|         4|       2|      3681.86|    0.01|0.06|         A|         F|1993-12-04|1994-01-07| 1994-01-01|             NONE|   TRUCK|y. fluffily pendi...|\n",
      "|       3|  18310|    115|         5|      28|     34392.68|    0.04| 0.0|         R|         F|1993-12-14|1994-01-10| 1994-01-01| TAKE BACK RETURN|     FOB|ages nag slyly pe...|\n",
      "|       3|   6215|    984|         6|      26|     29151.46|     0.1|0.02|         A|         F|1993-10-29|1993-12-18| 1993-11-04| TAKE BACK RETURN|    RAIL|ges sleep after t...|\n",
      "|       4|   8804|    579|         1|      30|      51384.0|    0.03|0.08|         N|         O|1996-01-10|1995-12-14| 1996-01-18|DELIVER IN PERSON| REG AIR|- quickly regular...|\n",
      "|       5|  10857|    858|         1|      15|     26517.75|    0.02|0.04|         R|         F|1994-10-31|1994-08-31| 1994-11-20|             NONE|     AIR|  ts wake furiously |\n",
      "|       5|  12393|    394|         2|      26|     33940.14|    0.07|0.08|         R|         F|1994-10-16|1994-09-25| 1994-10-19|             NONE|     FOB|sts use slyly qui...|\n",
      "|       5|   3754|      8|         3|      50|      82887.5|    0.08|0.03|         A|         F|1994-08-08|1994-10-13| 1994-08-26|DELIVER IN PERSON|     AIR|eodolites. fluffi...|\n",
      "|       6|  13964|    228|         1|      37|     69484.52|    0.08|0.03|         A|         F|1992-04-27|1992-05-15| 1992-05-02| TAKE BACK RETURN|   TRUCK|p furiously speci...|\n",
      "|       7|  18206|     11|         1|      12|      13490.4|    0.07|0.03|         N|         O|1996-05-07|1996-03-13| 1996-06-03| TAKE BACK RETURN|     FOB|ss pinto beans wa...|\n",
      "|       7|  14525|    790|         2|       9|     12955.68|    0.08|0.08|         N|         O|1996-02-01|1996-03-02| 1996-02-19| TAKE BACK RETURN|    SHIP|    es. instructions|\n",
      "+--------+-------+-------+----------+--------+-------------+--------+----+----------+----------+----------+----------+-----------+-----------------+--------+--------------------+\n",
      "only showing top 20 rows\n",
      "\n"
     ]
    }
   ],
   "source": [
    "lineitems = sqlContext.read.format('csv').options(header='true', inferSchema='true',  sep =\"|\").load(\"lineitem.tbl\")\n",
    "lineitems.show()"
   ]
  },
  {
   "cell_type": "code",
   "execution_count": 6,
   "metadata": {
    "id": "eHCWjR6rBDfE"
   },
   "outputs": [],
   "source": [
    "\n",
    "customer = sqlContext.read.format('csv').options(header='true', inferSchema='true',  sep =\"|\").load(\"customer.tbl\")\n",
    "orders = sqlContext.read.format('csv').options(header='true', inferSchema='true',  sep =\"|\").load(\"orders.tbl\")\n",
    "lineitems = sqlContext.read.format('csv').options(header='true', inferSchema='true',  sep =\"|\").load(\"lineitem.tbl\")\n",
    "part = sqlContext.read.format('csv').options(header='true', inferSchema='true',  sep =\"|\").load(\"part.tbl\")\n",
    "supplier = sqlContext.read.format('csv').options(header='true', inferSchema='true',  sep =\"|\").load(\"supplier.tbl\")\n",
    "partsupp = sqlContext.read.format('csv').options(header='true', inferSchema='true',  sep =\"|\").load(\"partsupp.tbl\")\n",
    "region = sqlContext.read.format('csv').options(header='true', inferSchema='true',  sep =\"|\").load(\"region.tbl\")\n",
    "nation = sqlContext.read.format('csv').options(header='true', inferSchema='true',  sep =\"|\").load(\"nation.tbl\")\n",
    "\n"
   ]
  },
  {
   "cell_type": "code",
   "execution_count": 7,
   "metadata": {
    "colab": {
     "base_uri": "https://localhost:8080/"
    },
    "id": "LuUnPsPBELW1",
    "outputId": "9094b0dd-065b-4564-9808-6776a5375c48"
   },
   "outputs": [
    {
     "name": "stdout",
     "output_type": "stream",
     "text": [
      "+---------+----------+---------+--------------------+\n",
      "|NATIONKEY|      NAME|REGIONKEY|             COMMENT|\n",
      "+---------+----------+---------+--------------------+\n",
      "|        0|   ALGERIA|        0| haggle. carefull...|\n",
      "|        1| ARGENTINA|        1|al foxes promise ...|\n",
      "|        2|    BRAZIL|        1|y alongside of th...|\n",
      "|        3|    CANADA|        1|eas hang ironic, ...|\n",
      "|        4|     EGYPT|        4|y above the caref...|\n",
      "|        5|  ETHIOPIA|        0|ven packages wake...|\n",
      "|        6|    FRANCE|        3|refully final req...|\n",
      "|        7|   GERMANY|        3|l platelets. regu...|\n",
      "|        8|     INDIA|        2|ss excuses cajole...|\n",
      "|        9| INDONESIA|        2| slyly express as...|\n",
      "|       10|      IRAN|        4|efully alongside ...|\n",
      "|       11|      IRAQ|        4|nic deposits boos...|\n",
      "|       12|     JAPAN|        2|ously. final, exp...|\n",
      "|       13|    JORDAN|        4|ic deposits are b...|\n",
      "|       14|     KENYA|        0| pending excuses ...|\n",
      "|       15|   MOROCCO|        0|rns. blithely bol...|\n",
      "|       16|MOZAMBIQUE|        0|s. ironic, unusua...|\n",
      "|       17|      PERU|        1|platelets. blithe...|\n",
      "|       18|     CHINA|        2|c dependencies. f...|\n",
      "|       19|   ROMANIA|        3|ular asymptotes a...|\n",
      "+---------+----------+---------+--------------------+\n",
      "only showing top 20 rows\n",
      "\n"
     ]
    }
   ],
   "source": [
    "nation.show()"
   ]
  },
  {
   "cell_type": "code",
   "execution_count": null,
   "metadata": {
    "id": "XS4aiaZUEABC"
   },
   "outputs": [],
   "source": []
  }
 ],
 "metadata": {
  "colab": {
   "collapsed_sections": [],
   "include_colab_link": true,
   "name": "Colab-TPC-H-Example-Spark.ipynb",
   "provenance": []
  },
  "kernelspec": {
   "display_name": "Python 3",
   "language": "python",
   "name": "python3"
  },
  "language_info": {
   "codemirror_mode": {
    "name": "ipython",
    "version": 3
   },
   "file_extension": ".py",
   "mimetype": "text/x-python",
   "name": "python",
   "nbconvert_exporter": "python",
   "pygments_lexer": "ipython3",
   "version": "3.8.3"
  }
 },
 "nbformat": 4,
 "nbformat_minor": 1
}
